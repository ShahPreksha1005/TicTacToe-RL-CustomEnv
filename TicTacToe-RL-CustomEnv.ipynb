{
  "nbformat": 4,
  "nbformat_minor": 0,
  "metadata": {
    "colab": {
      "provenance": []
    },
    "kernelspec": {
      "name": "python3",
      "display_name": "Python 3"
    },
    "language_info": {
      "name": "python"
    }
  },
  "cells": [
    {
      "cell_type": "code",
      "source": [
        "!pip install gymnasium\n"
      ],
      "metadata": {
        "colab": {
          "base_uri": "https://localhost:8080/"
        },
        "id": "rkVToEdhIqOU",
        "outputId": "17fe39c2-ce5b-484d-a7e9-acfa8062f9b2"
      },
      "execution_count": 8,
      "outputs": [
        {
          "output_type": "stream",
          "name": "stdout",
          "text": [
            "Requirement already satisfied: gymnasium in /usr/local/lib/python3.10/dist-packages (1.0.0)\n",
            "Requirement already satisfied: numpy>=1.21.0 in /usr/local/lib/python3.10/dist-packages (from gymnasium) (1.26.4)\n",
            "Requirement already satisfied: cloudpickle>=1.2.0 in /usr/local/lib/python3.10/dist-packages (from gymnasium) (3.1.0)\n",
            "Requirement already satisfied: typing-extensions>=4.3.0 in /usr/local/lib/python3.10/dist-packages (from gymnasium) (4.12.2)\n",
            "Requirement already satisfied: farama-notifications>=0.0.1 in /usr/local/lib/python3.10/dist-packages (from gymnasium) (0.0.4)\n"
          ]
        }
      ]
    },
    {
      "cell_type": "markdown",
      "source": [
        "#**Implementing a Custom RL Environment for Tic Tac Toe**\n",
        "This assignment focuses on creating a custom environment for Tic Tac Toe using Reinforcement Learning principles. The implementation includes visualization techniques to enhance interpretability and logs game states, moves, and outcomes.\n",
        "\n",
        "---\n",
        "\n",
        "###**1. Import Required Libraries**\n"
      ],
      "metadata": {
        "id": "feslzWMTJRsF"
      }
    },
    {
      "cell_type": "code",
      "execution_count": 9,
      "metadata": {
        "id": "kXgT41UsFGps"
      },
      "outputs": [],
      "source": [
        "import numpy as np\n",
        "import pandas as pd\n",
        "import matplotlib.pyplot as plt\n",
        "from gymnasium import Env, spaces\n"
      ]
    },
    {
      "cell_type": "markdown",
      "source": [
        "###**2. Define the Tic Tac Toe Environment**"
      ],
      "metadata": {
        "id": "1TCC7ftOJlxX"
      }
    },
    {
      "cell_type": "code",
      "source": [
        "class TicTacToeEnv(Env):\n",
        "    metadata = {\"render_modes\": [\"human\"]}\n",
        "\n",
        "    def __init__(self):\n",
        "        super().__init__()\n",
        "        self.action_space = spaces.Discrete(9)  # 9 cells\n",
        "        self.observation_space = spaces.Box(low=-1, high=1, shape=(3, 3), dtype=int)\n",
        "        self.reset()\n",
        "\n",
        "    def reset(self, seed=None, options=None):\n",
        "        self.board = np.zeros((3, 3), dtype=int)  # Reset board\n",
        "        self.current_player = 1  # X starts\n",
        "        self.done = False\n",
        "        return self.board, {}\n",
        "\n",
        "    def step(self, action):\n",
        "        if self.done:\n",
        "            raise ValueError(\"Game over. Reset the environment.\")\n",
        "\n",
        "        row, col = divmod(action, 3)\n",
        "        if self.board[row, col] != 0:\n",
        "            raise ValueError(\"Invalid move: Cell occupied.\")\n",
        "\n",
        "        # Update board state\n",
        "        self.board[row, col] = self.current_player\n",
        "\n",
        "        # Check game status\n",
        "        reward, self.done = self.check_game_status()\n",
        "\n",
        "        # Switch player\n",
        "        self.current_player *= -1\n",
        "        return self.board, reward, self.done, {}\n",
        "\n",
        "    def check_game_status(self):\n",
        "        for i in range(3):\n",
        "            if abs(sum(self.board[i, :])) == 3:  # Row win\n",
        "                return (1 if self.current_player == 1 else -1), True\n",
        "            if abs(sum(self.board[:, i])) == 3:  # Column win\n",
        "                return (1 if self.current_player == 1 else -1), True\n",
        "        if abs(sum(self.board.diagonal())) == 3 or abs(sum(np.fliplr(self.board).diagonal())) == 3:\n",
        "            return (1 if self.current_player == 1 else -1), True\n",
        "        if not np.any(self.board == 0):  # Draw\n",
        "            return 0, True\n",
        "        return 0, False\n",
        "\n",
        "    def render(self, mode=\"human\"):\n",
        "        symbols = {1: \"X\", -1: \"O\", 0: \".\"}\n",
        "        for row in self.board:\n",
        "            print(\" \".join([symbols[cell] for cell in row]))\n",
        "        print()\n"
      ],
      "metadata": {
        "id": "tVJzgG75IBSq"
      },
      "execution_count": 10,
      "outputs": []
    },
    {
      "cell_type": "markdown",
      "source": [
        "###**3. Visualization Functions**\n",
        "**3.1 Board as Table**\n"
      ],
      "metadata": {
        "id": "yaGHXGeQJuM9"
      }
    },
    {
      "cell_type": "code",
      "source": [
        "def display_board_as_table(board):\n",
        "    df = pd.DataFrame(board, columns=[\"Col 1\", \"Col 2\", \"Col 3\"], index=[\"Row 1\", \"Row 2\", \"Row 3\"])\n",
        "    symbols = {1: \"X\", -1: \"O\", 0: \".\"}\n",
        "    df = df.replace(symbols)\n",
        "    print(df)\n"
      ],
      "metadata": {
        "id": "gP0F6VQ_IDee"
      },
      "execution_count": 11,
      "outputs": []
    },
    {
      "cell_type": "markdown",
      "source": [
        "**3.2 Game Logs**"
      ],
      "metadata": {
        "id": "6cQxvB_qJ3ac"
      }
    },
    {
      "cell_type": "code",
      "source": [
        "def log_gameplay(env):\n",
        "    logs = []\n",
        "    state, _ = env.reset()\n",
        "    done = False\n",
        "    step = 0\n",
        "\n",
        "    while not done:\n",
        "        # Random valid move\n",
        "        valid_moves = np.argwhere(state.flatten() == 0)\n",
        "        action = np.random.choice(valid_moves.flatten())\n",
        "        row, col = divmod(action, 3)\n",
        "\n",
        "        # Perform action\n",
        "        state, reward, done, _ = env.step(action)\n",
        "        logs.append({\"Step\": step + 1, \"Player\": \"X\" if env.current_player == -1 else \"O\",\n",
        "                     \"Action\": f\"({row}, {col})\", \"Reward\": reward, \"Done\": done})\n",
        "        display_board_as_table(state)\n",
        "        step += 1\n",
        "\n",
        "    return pd.DataFrame(logs)\n"
      ],
      "metadata": {
        "id": "exgoez3oIFSv"
      },
      "execution_count": 12,
      "outputs": []
    },
    {
      "cell_type": "markdown",
      "source": [
        "**3.3 Outcome Visualization**"
      ],
      "metadata": {
        "id": "v3qPUhm9J7S2"
      }
    },
    {
      "cell_type": "code",
      "source": [
        "def visualize_outcomes(results):\n",
        "    outcomes = {\"X Wins\": results.count(1), \"O Wins\": results.count(-1), \"Draws\": results.count(0)}\n",
        "\n",
        "    plt.figure(figsize=(6, 6))\n",
        "    plt.pie(outcomes.values(), labels=outcomes.keys(), autopct='%1.1f%%', startangle=140)\n",
        "    plt.title(\"Game Outcomes\")\n",
        "    plt.show()\n"
      ],
      "metadata": {
        "id": "6ZRJfLd_IHyP"
      },
      "execution_count": 13,
      "outputs": []
    },
    {
      "cell_type": "markdown",
      "source": [
        "**4. Example Usage**"
      ],
      "metadata": {
        "id": "euQ1rIA1J99k"
      }
    },
    {
      "cell_type": "code",
      "source": [
        "# Initialize environment\n",
        "env = TicTacToeEnv()\n",
        "\n",
        "# Log gameplay\n",
        "print(\"Game Log:\")\n",
        "game_log = log_gameplay(env)\n",
        "print(game_log)\n",
        "\n",
        "# Visualize gameplay outcomes for multiple games\n",
        "results = [1, -1, 0, 1, 0]  # Example results (X wins, O wins, draws)\n",
        "visualize_outcomes(results)\n"
      ],
      "metadata": {
        "colab": {
          "base_uri": "https://localhost:8080/",
          "height": 989
        },
        "id": "F7OgOpOiILrY",
        "outputId": "87cefe6d-340b-408e-dfc6-6e4604239c30"
      },
      "execution_count": 14,
      "outputs": [
        {
          "output_type": "stream",
          "name": "stdout",
          "text": [
            "Game Log:\n",
            "      Col 1 Col 2 Col 3\n",
            "Row 1     .     .     X\n",
            "Row 2     .     .     .\n",
            "Row 3     .     .     .\n",
            "      Col 1 Col 2 Col 3\n",
            "Row 1     .     .     X\n",
            "Row 2     .     .     O\n",
            "Row 3     .     .     .\n",
            "      Col 1 Col 2 Col 3\n",
            "Row 1     .     X     X\n",
            "Row 2     .     .     O\n",
            "Row 3     .     .     .\n",
            "      Col 1 Col 2 Col 3\n",
            "Row 1     .     X     X\n",
            "Row 2     .     .     O\n",
            "Row 3     O     .     .\n",
            "      Col 1 Col 2 Col 3\n",
            "Row 1     X     X     X\n",
            "Row 2     .     .     O\n",
            "Row 3     O     .     .\n",
            "   Step Player  Action  Reward   Done\n",
            "0     1      X  (0, 2)       0  False\n",
            "1     2      O  (1, 2)       0  False\n",
            "2     3      X  (0, 1)       0  False\n",
            "3     4      O  (2, 0)       0  False\n",
            "4     5      X  (0, 0)       1   True\n"
          ]
        },
        {
          "output_type": "display_data",
          "data": {
            "text/plain": [
              "<Figure size 600x600 with 1 Axes>"
            ],
            "image/png": "[encoded data removed]"
          },
          "metadata": {}
        }
      ]
    },
    {
      "cell_type": "markdown",
      "source": [
        "---\n",
        "### **Key Achievements**  \n",
        "\n",
        "1. **Custom Environment**: Built a Tic Tac Toe environment using *gymnasium* with robust game logic for wins, draws, and invalid move prevention.  \n",
        "2. **Player Switching**: Implemented seamless player alternation between X and O.  \n",
        "3. **Visualizations**: Added table-based board visualization and pie chart outcome analysis for intuitive understanding.  \n",
        "4. **Gameplay Logs**: Developed a logging system for detailed tracking of moves, rewards, and game states.  \n",
        "5. **Error Handling**: Incorporated mechanisms to handle invalid moves effectively.  \n",
        "6. **Outcome Insights**: Analyzed and visualized game outcomes across multiple simulations.  \n",
        "7. **Extensible Design**: Designed the environment to integrate with RL algorithms like Q-learning.  \n",
        "8. **User-Friendly Symbols**: Mapped cell values (1, -1, 0) to symbols (X, O, .) for better readability.  \n",
        "9. **Random Agent Simulation**: Validated the environment using random agents to simulate gameplay.  \n",
        "10. **Comprehensive Documentation**: Ensured clarity with well-structured and modular code.  \n",
        "\n",
        "##**Conclusion**\n",
        "The implementation of a custom Tic Tac Toe RL environment has successfully showcased the interplay between environment design, game logic, and visual interpretability. By incorporating logging and visualization features, the assignment not only achieved functional gameplay but also provided insights into game dynamics and outcomes. This environment serves as a stepping stone for further exploration into RL strategies, enabling the training of intelligent agents to play Tic Tac Toe optimally.\n",
        "\n",
        "---\n",
        "---"
      ],
      "metadata": {
        "id": "Oyu9rl8cKSFd"
      }
    }
  ]
}